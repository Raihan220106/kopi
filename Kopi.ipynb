{
  "nbformat": 4,
  "nbformat_minor": 0,
  "metadata": {
    "colab": {
      "provenance": []
    },
    "kernelspec": {
      "name": "python3",
      "display_name": "Python 3"
    },
    "language_info": {
      "name": "python"
    }
  },
  "cells": [
    {
      "cell_type": "code",
      "execution_count": 1,
      "metadata": {
        "colab": {
          "base_uri": "https://localhost:8080/"
        },
        "id": "xwrN3EjeaR3k",
        "outputId": "e15a5696-8f75-4e44-853c-1afc7de54965"
      },
      "outputs": [
        {
          "output_type": "stream",
          "name": "stdout",
          "text": [
            "Nama produk 1: Kopi Pagi\n",
            "Harga produk 1: 18000.5\n",
            "Nama produk 2: Roti Cokelat\n",
            "Harga produk 2: 10000\n",
            "Status ketersediaan roti: True\n"
          ]
        }
      ],
      "source": [
        "# Menyimpan data produk\n",
        "nama_produk_1 = \"Kopi Pagi\"\n",
        "harga_produk_1 = 18000.5\n",
        "\n",
        "nama_produk_2 = \"Roti Cokelat\"\n",
        "harga_produk_2 = 10000\n",
        "status_roti_tersedia = True\n",
        "\n",
        "# Menampilkan semua data dengan pesan yang jelas\n",
        "print(\"Nama produk 1:\", nama_produk_1)\n",
        "print(\"Harga produk 1:\", harga_produk_1)\n",
        "print(\"Nama produk 2:\", nama_produk_2)\n",
        "print(\"Harga produk 2:\", harga_produk_2)\n",
        "print(\"Status ketersediaan roti:\", status_roti_tersedia)\n"
      ]
    },
    {
      "cell_type": "code",
      "source": [
        "# Meminta input dari pengguna\n",
        "jumlah_kopi_str = input(\"Masukkan jumlah pesanan kopi: \")\n",
        "jumlah_roti_str = input(\"Masukkan jumlah pesanan roti: \")\n",
        "\n",
        "# Menampilkan tipe data awal\n",
        "print(\"Tipe data awal jumlah kopi:\", type(jumlah_kopi_str))\n",
        "print(\"Tipe data awal jumlah roti:\", type(jumlah_roti_str))\n",
        "\n",
        "# Mengonversi string menjadi integer\n",
        "jumlah_kopi_int = int(jumlah_kopi_str)\n",
        "jumlah_roti_int = int(jumlah_roti_str)\n",
        "\n",
        "# Menampilkan tipe data setelah konversi\n",
        "print(\"Tipe data setelah konversi jumlah kopi:\", type(jumlah_kopi_int))\n",
        "print(\"Tipe data setelah konversi jumlah roti:\", type(jumlah_roti_int))\n"
      ],
      "metadata": {
        "colab": {
          "base_uri": "https://localhost:8080/"
        },
        "id": "6p44WpjnaiXh",
        "outputId": "d20c4673-f4a2-4a51-dc96-8971a4527483"
      },
      "execution_count": 2,
      "outputs": [
        {
          "output_type": "stream",
          "name": "stdout",
          "text": [
            "Masukkan jumlah pesanan kopi: 2\n",
            "Masukkan jumlah pesanan roti: 3\n",
            "Tipe data awal jumlah kopi: <class 'str'>\n",
            "Tipe data awal jumlah roti: <class 'str'>\n",
            "Tipe data setelah konversi jumlah kopi: <class 'int'>\n",
            "Tipe data setelah konversi jumlah roti: <class 'int'>\n"
          ]
        }
      ]
    },
    {
      "cell_type": "code",
      "source": [
        "# Data dari Tugas 1\n",
        "harga_kopi = 18000.5\n",
        "harga_roti = 10000\n",
        "\n",
        "# Data dari Tugas 2 (contoh input)\n",
        "jumlah_kopi_int = int(input(\"Masukkan jumlah pesanan kopi: \"))\n",
        "jumlah_roti_int = int(input(\"Masukkan jumlah pesanan roti: \"))\n",
        "\n",
        "# Menghitung total harga\n",
        "total_harga_kopi = harga_kopi * jumlah_kopi_int\n",
        "total_harga_roti = harga_roti * jumlah_roti_int\n",
        "total_belanja = total_harga_kopi + total_harga_roti\n",
        "\n",
        "# Menampilkan total belanja\n",
        "print(\"Total harga kopi:\", total_harga_kopi)\n",
        "print(\"Total harga roti:\", total_harga_roti)\n",
        "print(\"Total belanja keseluruhan:\", total_belanja)\n",
        "\n",
        "# Menghitung kembalian\n",
        "uang_bayar = 50000\n",
        "kembalian = uang_bayar - total_belanja\n",
        "print(\"Uang yang dibayarkan:\", uang_bayar)\n",
        "print(\"Kembalian:\", kembalian)\n"
      ],
      "metadata": {
        "colab": {
          "base_uri": "https://localhost:8080/"
        },
        "id": "rsuJJg54a_Db",
        "outputId": "770a2846-6164-4805-ffe2-b35f821be244"
      },
      "execution_count": 3,
      "outputs": [
        {
          "output_type": "stream",
          "name": "stdout",
          "text": [
            "Masukkan jumlah pesanan kopi: 3\n",
            "Masukkan jumlah pesanan roti: 2\n",
            "Total harga kopi: 54001.5\n",
            "Total harga roti: 20000\n",
            "Total belanja keseluruhan: 74001.5\n",
            "Uang yang dibayarkan: 50000\n",
            "Kembalian: -24001.5\n"
          ]
        }
      ]
    },
    {
      "cell_type": "code",
      "source": [
        "# Data dari Tugas 1 & 3\n",
        "nama_produk_1 = \"Kopi Pagi\"\n",
        "total_harga_kopi = 36001.0  # contoh dari Tugas 3\n",
        "\n",
        "# Meminta input nama pelanggan\n",
        "nama_pelanggan = input(\"Masukkan nama pelanggan: \")\n",
        "\n",
        "# Membuat pesan terima kasih\n",
        "pesan_terima_kasih = \"Terima kasih, \" + nama_pelanggan + \" sudah berbelanja di Coffee Shop Bahagia!\"\n",
        "\n",
        "# Membuat garis pemisah\n",
        "garis = \"*\" * 25\n",
        "\n",
        "# Menampilkan struk\n",
        "print(garis)\n",
        "print(pesan_terima_kasih)\n",
        "print(garis)\n",
        "\n",
        "# Menampilkan total harga kopi dengan f-string\n",
        "print(f\"Total harga {nama_produk_1} adalah Rp{total_harga_kopi}\")\n"
      ],
      "metadata": {
        "colab": {
          "base_uri": "https://localhost:8080/"
        },
        "id": "s2D9OD1vbT7M",
        "outputId": "5c2d339d-b986-49c3-b930-d50c5559cc9e"
      },
      "execution_count": 4,
      "outputs": [
        {
          "output_type": "stream",
          "name": "stdout",
          "text": [
            "Masukkan nama pelanggan: RAIHAN\n",
            "*************************\n",
            "Terima kasih, RAIHAN sudah berbelanja di Coffee Shop Bahagia!\n",
            "*************************\n",
            "Total harga Kopi Pagi adalah Rp36001.0\n"
          ]
        }
      ]
    }
  ]
}